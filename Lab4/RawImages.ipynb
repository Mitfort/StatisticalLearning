{
 "cells": [
  {
   "cell_type": "markdown",
   "id": "f92e81e4",
   "metadata": {},
   "source": [
    "# MNIST Classifier (RAW DATA)"
   ]
  },
  {
   "cell_type": "markdown",
   "id": "cb4bfa73",
   "metadata": {},
   "source": [
    "## Imports"
   ]
  },
  {
   "cell_type": "code",
   "execution_count": 1,
   "id": "df66c8ae",
   "metadata": {},
   "outputs": [],
   "source": [
    "import torch\n",
    "import torch.nn as nn\n",
    "import torch.functional as F\n",
    "\n",
    "from torch.utils.data import DataLoader\n",
    "from torchvision import datasets\n",
    "\n",
    "import numpy as np\n",
    "import pandas as pd\n",
    "from sklearn.metrics import confusion_matrix\n",
    "import matplotlib.pyplot as plt"
   ]
  },
  {
   "cell_type": "markdown",
   "id": "1b7d0a17",
   "metadata": {},
   "source": [
    "## Prepare Data"
   ]
  },
  {
   "cell_type": "code",
   "execution_count": 3,
   "id": "2470e678",
   "metadata": {},
   "outputs": [],
   "source": [
    "train_dataset = datasets.MNIST(root='/data/mnist_data', train=True, download=True)\n",
    "test_dataset = datasets.MNIST(root='/data/mnist_data',train=False,download=True)"
   ]
  },
  {
   "cell_type": "code",
   "execution_count": 12,
   "id": "bbc3e190",
   "metadata": {},
   "outputs": [
    {
     "data": {
      "text/plain": [
       "(Dataset MNIST\n",
       "     Number of datapoints: 60000\n",
       "     Root location: /data/mnist_data\n",
       "     Split: Train,\n",
       " Dataset MNIST\n",
       "     Number of datapoints: 10000\n",
       "     Root location: /data/mnist_data\n",
       "     Split: Test)"
      ]
     },
     "execution_count": 12,
     "metadata": {},
     "output_type": "execute_result"
    }
   ],
   "source": [
    "train_dataset,test_dataset"
   ]
  },
  {
   "cell_type": "code",
   "execution_count": 18,
   "id": "df88c1e4",
   "metadata": {},
   "outputs": [],
   "source": [
    "X_train = torch.as_tensor(train_dataset.data).float()\n",
    "y_train = torch.as_tensor(train_dataset.targets).float()\n",
    "\n",
    "X_test = torch.as_tensor(test_dataset.data).float()\n",
    "y_test  = torch.as_tensor(test_dataset.targets).float()"
   ]
  },
  {
   "cell_type": "code",
   "execution_count": 21,
   "id": "aa9f6197",
   "metadata": {},
   "outputs": [],
   "source": [
    "## Noramlizacja\n",
    "X_train /=  255.0\n",
    "X_test /= 255.0"
   ]
  },
  {
   "cell_type": "markdown",
   "id": "2cd5b4b0",
   "metadata": {},
   "source": []
  },
  {
   "cell_type": "code",
   "execution_count": null,
   "id": "3367fa07",
   "metadata": {},
   "outputs": [],
   "source": []
  },
  {
   "cell_type": "code",
   "execution_count": null,
   "id": "ba5fb909",
   "metadata": {},
   "outputs": [],
   "source": []
  },
  {
   "cell_type": "markdown",
   "id": "fece59ff",
   "metadata": {},
   "source": [
    "## Logistic Regression"
   ]
  },
  {
   "cell_type": "code",
   "execution_count": null,
   "id": "89d71d61",
   "metadata": {},
   "outputs": [],
   "source": [
    "class MyLogisticRegression:\n",
    "    def __init__(self,lr=0.1,epochs=1000):\n",
    "        self.lr = lr\n",
    "        self.epochs = epochs\n",
    "        self.W1 = np.random.rand(10,784)\n",
    "        self.b1 = np.random.rand(10,1)\n",
    "        self.W2 = np.random.rand(10,10)\n",
    "        self.b2 = np.random.rand(10,1)\n",
    "    \n",
    "    def ReLU(self,x):\n",
    "        if x > 0: return x\n",
    "\n",
    "        return 0\n",
    "\n",
    "    def softmax(self,Z):\n",
    "        return np.exp(Z)/(np.sum(np.exp(Z)))\n",
    "\n",
    "    def forward(self,W1:np.ndarray,b1,W2:np.ndarray,b2,X):\n",
    "        Z1 = W1.dot(X) + b1\n",
    "        A1 = self.ReLU(Z1)\n",
    "        Z2 = W2.dot(A1) + b2\n",
    "        A2 = self.softmax(Z2)\n",
    "\n",
    "    def one_hot(Y:np.ndarray):\n",
    "        one_hot_Y = np.zeros((Y.size,Y.max() + 1))\n",
    "        one_hot_Y[np.arange(Y.size),Y] = 1\n",
    "        one_hot_Y = one_hot_Y.T\n",
    "        return one_hot_Y\n",
    "\n",
    "    def backward(Z1,A1,Z2,A2,W2,Y):\n",
    "        pass"
   ]
  }
 ],
 "metadata": {
  "kernelspec": {
   "display_name": "Python 3",
   "language": "python",
   "name": "python3"
  },
  "language_info": {
   "codemirror_mode": {
    "name": "ipython",
    "version": 3
   },
   "file_extension": ".py",
   "mimetype": "text/x-python",
   "name": "python",
   "nbconvert_exporter": "python",
   "pygments_lexer": "ipython3",
   "version": "3.12.7"
  }
 },
 "nbformat": 4,
 "nbformat_minor": 5
}
